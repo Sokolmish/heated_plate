{
 "cells": [
  {
   "cell_type": "code",
   "execution_count": null,
   "metadata": {},
   "outputs": [],
   "source": [
    "from common_all import *\n",
    "from common_float import *"
   ]
  },
  {
   "cell_type": "code",
   "execution_count": null,
   "metadata": {},
   "outputs": [],
   "source": [
    "def FUNC2(x, y): return func(y, x) / K  # 45 9"
   ]
  },
  {
   "cell_type": "code",
   "execution_count": null,
   "metadata": {},
   "outputs": [],
   "source": [
    "# Assuming that heat source is round and symmetrical\n",
    "def get_source_effective_radius(cx, cy):\n",
    "    offset = 0\n",
    "    while func(cx + offset, cy) > 1e-4:\n",
    "        offset += 0.1\n",
    "    return offset\n",
    "\n",
    "source_eff_ofsset = get_source_effective_radius(45, 9)\n",
    "print(f'Effective offset: {source_eff_ofsset:.2f}')\n",
    "\n",
    "effbox_x1 = SOURCE_X0 - source_eff_ofsset\n",
    "effbox_x2 = SOURCE_X0 + source_eff_ofsset\n",
    "effbox_y1 = SOURCE_Y0 - source_eff_ofsset\n",
    "effbox_y2 = SOURCE_Y0 + source_eff_ofsset"
   ]
  },
  {
   "cell_type": "code",
   "execution_count": null,
   "metadata": {},
   "outputs": [],
   "source": [
    "# def pt_line_dist(ptx, pty, ax, ay, bx, by, segm_len):\n",
    "#     v = (by - ay) * ptx - (bx - ax) * pty + bx * ay - by * ax\n",
    "#     return abs(v) / segm_len\n",
    "\n",
    "# Passing segm_len improves speed\n",
    "# TODO: not tested\n",
    "def has_intersection_segm_circle(cx, cy, r, ax, ay, bx, by, segm_len):\n",
    "    if m.hypot(abs(cx - ax), abs(cy - ay)) < r:\n",
    "        return True\n",
    "    if m.hypot(abs(cx - bx), abs(cy - by)) < r:\n",
    "        return True\n",
    "\n",
    "    # Project AC onto AB = AP:\n",
    "    # AP = scale * AB / norm(AB), where scale = dot(AC, AB) / norm(AB)\n",
    "    # TODO: coordinates differences have already computed somewhere before?\n",
    "    scale = ((cx - ax) * (bx - ax) + (cy - ay) * (by - ay)) / segm_len\n",
    "    if scale < 0 or scale > 1:  # Nearest point outside of segment\n",
    "        return False\n",
    "    scale /= segm_len\n",
    "    projx, projy = ax + scale * (bx - ax), ay + scale * (by - ay)\n",
    "    if m.hypot(abs(projx - cx), abs(projy - cy)) < r:\n",
    "        return True\n",
    "\n",
    "    return False"
   ]
  },
  {
   "cell_type": "code",
   "execution_count": null,
   "metadata": {},
   "outputs": [],
   "source": [
    "# TODO: not tested\n",
    "def has_intersection_segm_rect(sx1, sy1, sx2, sy2, ax, ay, bx, by):\n",
    "    if sx1 <= ax <= sx2 and sy1 <= ay <= sy2:\n",
    "        return True\n",
    "    if sx1 <= bx <= sx2 and sy1 <= by <= sy2:\n",
    "        return True\n",
    "\n",
    "    def intersect1(a, b, c, d):\n",
    "        if a > b: a, b = b, a\n",
    "        if c > d: c, d = d, c\n",
    "        return max(a, c) <= min(b, d)\n",
    "\n",
    "    if not intersect1(sx1, sx2, ax, bx) or not intersect1(sy1, sy2, ay, by):\n",
    "        return False\n",
    "\n",
    "    def area3(ax, ay, bx, by, cx, cy):\n",
    "        return (bx - ax) * (cy - ay) - (by - ay) * (cx - ax)\n",
    "\n",
    "    def instersect_segms(ax, ay, bx, by, cx, cy, dx, dy):\n",
    "        s1 = area3(ax, ay, bx, by, cx, cy) <= 0\n",
    "        s2 = area3(ax, ay, bx, by, dx, dy) <= 0\n",
    "        if s1 == s2: return False\n",
    "        s1 = area3(cx, cy, dx, dy, ax, ay) <= 0\n",
    "        s2 = area3(cx, cy, dx, dy, bx, by) <= 0\n",
    "        return s1 != s2\n",
    "\n",
    "    if instersect_segms(ax, ay, bx, by, sx1, sy1, sx2, sy2):\n",
    "        return True\n",
    "    return instersect_segms(ax, ay, bx, by, sx1, sy2, sx2, sy1)"
   ]
  },
  {
   "cell_type": "code",
   "execution_count": null,
   "metadata": {},
   "outputs": [],
   "source": [
    "def has_effective_intersection(ax, ay, bx, by):\n",
    "    return has_intersection_segm_rect(\n",
    "        effbox_x1, effbox_y1, effbox_x2, effbox_y2,\n",
    "        ax, ay, bx, by)"
   ]
  },
  {
   "cell_type": "code",
   "execution_count": null,
   "metadata": {},
   "outputs": [],
   "source": [
    "# Simpson's integration\n",
    "\n",
    "INTEGR_STEP = 1e-2\n",
    "\n",
    "_INTEGR_STEP_2 = INTEGR_STEP / 2.0\n",
    "\n",
    "def integrate_segm(x1: int, y1: int, x2: int, y2: int):\n",
    "    dx, dy = abs(x2 - x1), abs(y2 - y1)\n",
    "    segm_len = m.hypot(dx, dy)\n",
    "    halfx = _INTEGR_STEP_2 * dx\n",
    "    halfy = _INTEGR_STEP_2 * dy\n",
    "\n",
    "    s = 0\n",
    "    ptx, pty = x1, y1\n",
    "    lastval = FUNC2(ptx, pty)\n",
    "\n",
    "    for i in range(int(segm_len / INTEGR_STEP)):\n",
    "        s += lastval\n",
    "        s += 4 * FUNC2(ptx + halfx, pty + halfy)\n",
    "\n",
    "        ptx += INTEGR_STEP\n",
    "        pty += INTEGR_STEP \n",
    "        lastval = FUNC2(ptx, pty)\n",
    "        s += lastval\n",
    "\n",
    "    res = s * INTEGR_STEP / 6.0\n",
    "    return res"
   ]
  },
  {
   "cell_type": "code",
   "execution_count": null,
   "metadata": {},
   "outputs": [],
   "source": [
    "def prob_trace(y: float, x: float, eps: float, fixed_step):\n",
    "    _2_PI = 2 * m.pi\n",
    "\n",
    "    hops = 0\n",
    "    res = 0\n",
    "\n",
    "    dist, btemp = dist_to_border(y, x)\n",
    "    while dist > eps and not is_outside(y, x):\n",
    "        angle = _2_PI * rnd.random()\n",
    "        # if fixed_step is None:\n",
    "        #     nx = x + dist * m.cos(angle)\n",
    "        #     ny = y + dist * m.sin(angle)\n",
    "        # else:\n",
    "        nx = x + fixed_step * m.cos(angle)\n",
    "        ny = y + fixed_step * m.sin(angle)\n",
    "\n",
    "        if has_effective_intersection(x, y, nx, ny):\n",
    "            res += integrate_segm(x, y, nx, ny) * 0.25\n",
    "        else:\n",
    "            res += PASSIVE_HEATING\n",
    "\n",
    "        x, y = nx, ny\n",
    "\n",
    "        dist, btemp = dist_to_border(y, x)\n",
    "        hops += 1\n",
    "\n",
    "    res += btemp\n",
    "    return res\n",
    "\n",
    "def prob_point(j, i, traces_cnt: int, eps: float, fixed_step):\n",
    "    res = 0\n",
    "    for _ in range(traces_cnt):\n",
    "        res += prob_trace(j, i, eps, fixed_step)\n",
    "    res /= traces_cnt\n",
    "    return res"
   ]
  },
  {
   "cell_type": "code",
   "execution_count": null,
   "metadata": {},
   "outputs": [],
   "source": [
    "TARGET = (45, 9)\n",
    "TRACES_COUNT = 100\n",
    "EPS = 1e-2\n",
    "\n",
    "FIXED_STEP = 1\n",
    "\n",
    "res = prob_point(*TARGET, TRACES_COUNT, EPS, FIXED_STEP)\n",
    "print(f'Res: {res:.3f}')\n",
    "orig = 330.6864168849065\n",
    "err = (abs(res - orig) / orig) * 100\n",
    "print(f'Err: {err:.3f}%')"
   ]
  }
 ],
 "metadata": {
  "kernelspec": {
   "display_name": "Python 3",
   "language": "python",
   "name": "python3"
  },
  "language_info": {
   "codemirror_mode": {
    "name": "ipython",
    "version": 3
   },
   "file_extension": ".py",
   "mimetype": "text/x-python",
   "name": "python",
   "nbconvert_exporter": "python",
   "pygments_lexer": "ipython3",
   "version": "3.8.10 (default, Nov 14 2022, 12:59:47) \n[GCC 9.4.0]"
  },
  "orig_nbformat": 4,
  "vscode": {
   "interpreter": {
    "hash": "767d51c1340bd893661ea55ea3124f6de3c7a262a8b4abca0554b478b1e2ff90"
   }
  }
 },
 "nbformat": 4,
 "nbformat_minor": 2
}
