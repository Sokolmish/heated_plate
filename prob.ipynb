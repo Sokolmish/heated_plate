{
 "cells": [
  {
   "cell_type": "code",
   "execution_count": null,
   "metadata": {},
   "outputs": [],
   "source": [
    "import math as m\n",
    "\n",
    "import numpy as np\n",
    "\n",
    "import matplotlib.pyplot as plt\n",
    "from matplotlib import cm\n",
    "from matplotlib.patches import Rectangle\n",
    "\n",
    "import ipywidgets as widgets"
   ]
  },
  {
   "cell_type": "code",
   "execution_count": null,
   "metadata": {},
   "outputs": [],
   "source": [
    "EXT_SIZE = 60\n",
    "INT_SIZE = 20\n",
    "\n",
    "EXT_BORDER = +300.0\n",
    "INT_BORDER = +320.0\n",
    "\n",
    "STEP = 1\n",
    "\n",
    "def func(x, z):\n",
    "    # return 30\n",
    "    f0, beta = 60, 0.1\n",
    "    x0, z0 = 45, 9\n",
    "    return f0 * m.exp(-beta * (x - x0)**2 * (z - z0)**2)\n",
    "\n",
    "K = 20"
   ]
  },
  {
   "cell_type": "code",
   "execution_count": null,
   "metadata": {},
   "outputs": [],
   "source": [
    "EXT_STEPS = EXT_SIZE + 1\n",
    "INT_STEPS = INT_SIZE + 1\n",
    "\n",
    "INT_OFFS = int((EXT_SIZE - INT_SIZE) / 2)\n",
    "\n",
    "STEPS_1 = int(INT_OFFS / STEP)\n",
    "STEPS_2 = int(INT_STEPS / STEP)\n",
    "STEPS_3 = STEPS_1\n",
    "STEPS = STEPS_1 + STEPS_2 + STEPS_3"
   ]
  },
  {
   "cell_type": "code",
   "execution_count": null,
   "metadata": {},
   "outputs": [],
   "source": [
    "# Matrix and accessors\n",
    "\n",
    "w_matrix = np.zeros((STEPS, STEPS), dtype=float)\n",
    "h, w = w_matrix.shape\n",
    "\n",
    "\n",
    "# eb0, eb1 = 0, w - 1\n",
    "ib0, ib1 = INT_OFFS, INT_OFFS + INT_SIZE\n",
    "\n",
    "\n",
    "def is_ext_bound(y, x):\n",
    "    return x in [0, w - 1] or y in [0, h - 1]\n",
    "\n",
    "# TODO: nonsquare\n",
    "\n",
    "def _is_hole_or_bound(y, x):\n",
    "    return x >= ib0 and x <= ib1 and y >= ib0 and y <= ib1\n",
    "\n",
    "def _is_int_bound_1dim(y, x):\n",
    "    return x in [ib0, ib1] or y in [ib0, ib1]\n",
    "\n",
    "def is_int_bound(y, x):\n",
    "    return _is_hole_or_bound(y, x) and _is_int_bound_1dim(y, x)\n",
    "\n",
    "def is_hole(y, x):\n",
    "    return _is_hole_or_bound(y, x) and not _is_int_bound_1dim(y, x)\n",
    "\n",
    "def is_target(y, x):\n",
    "    return not (_is_hole_or_bound(y, x) or is_ext_bound(y, x))\n",
    "\n",
    "\n",
    "def get_range1():\n",
    "    return range(1, ib0)\n",
    "\n",
    "def get_range2():\n",
    "    return range(ib0, ib1 + 1)\n",
    "\n",
    "def get_range3():\n",
    "    # TODO: w/h\n",
    "    return range(ib1 + 1, w - 1)"
   ]
  },
  {
   "cell_type": "code",
   "execution_count": null,
   "metadata": {},
   "outputs": [],
   "source": [
    "# Borders setup\n",
    "\n",
    "for j in range(h):\n",
    "    w_matrix[j, 0] = EXT_BORDER\n",
    "    w_matrix[j, w - 1] = EXT_BORDER\n",
    "for i in range(w):\n",
    "    w_matrix[0, i] = EXT_BORDER\n",
    "    w_matrix[h - 1, i] = EXT_BORDER\n",
    "\n",
    "for j in get_range2():\n",
    "    w_matrix[j, ib0] = INT_BORDER\n",
    "    w_matrix[j, ib1] = INT_BORDER\n",
    "for i in get_range2():\n",
    "    w_matrix[ib0, i] = INT_BORDER\n",
    "    w_matrix[ib1, i] = INT_BORDER"
   ]
  },
  {
   "cell_type": "code",
   "execution_count": null,
   "metadata": {},
   "outputs": [],
   "source": [
    "# Function values setup\n",
    "\n",
    "def FUNC2(x, z): return func(x, z) / K\n",
    "\n",
    "for j in range(1, h - 1):\n",
    "    for i in range(1, w - 1):\n",
    "        if not is_target(i, j):\n",
    "            continue\n",
    "        w_matrix[j, i] = FUNC2(j * STEP, i * STEP)"
   ]
  },
  {
   "cell_type": "code",
   "execution_count": null,
   "metadata": {},
   "outputs": [],
   "source": [
    "# Probability method\n",
    "\n",
    "ITERS_COUNT = 100\n",
    "\n",
    "def prob_point(i, j):\n",
    "    for _ in range(ITERS_COUNT):\n",
    "        pass"
   ]
  },
  {
   "cell_type": "code",
   "execution_count": null,
   "metadata": {},
   "outputs": [],
   "source": [
    "TARGET = (10, 10)"
   ]
  }
 ],
 "metadata": {
  "kernelspec": {
   "display_name": "Python 3.8.10 64-bit",
   "language": "python",
   "name": "python3"
  },
  "language_info": {
   "name": "python",
   "version": "3.8.10"
  },
  "orig_nbformat": 4,
  "vscode": {
   "interpreter": {
    "hash": "31f2aee4e71d21fbe5cf8b01ff0e069b9275f58929596ceb00d14d90e3e16cd6"
   }
  }
 },
 "nbformat": 4,
 "nbformat_minor": 2
}
