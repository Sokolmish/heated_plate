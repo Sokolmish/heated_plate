{
 "cells": [
  {
   "cell_type": "code",
   "execution_count": null,
   "metadata": {},
   "outputs": [],
   "source": [
    "import math as m\n",
    "import random\n",
    "\n",
    "import numpy as np\n",
    "\n",
    "import matplotlib.pyplot as plt\n",
    "from matplotlib import cm\n",
    "from matplotlib.patches import Rectangle\n",
    "\n",
    "import ipywidgets as widgets"
   ]
  },
  {
   "cell_type": "code",
   "execution_count": null,
   "metadata": {},
   "outputs": [],
   "source": [
    "EXT_SIZE_X, EXT_SIZE_Y = 80, 60\n",
    "\n",
    "INT_OFFS_X, INT_OFFS_Y = 20, 20\n",
    "INT_SIZE_X, INT_SIZE_Y = 20, 20\n",
    "\n",
    "EXT_BORDER = +300.0\n",
    "INT_BORDER = +320.0\n",
    "\n",
    "STEP = 1\n",
    "\n",
    "def func(x, z):\n",
    "    # return 30\n",
    "    f0, beta = 60, 0.1\n",
    "    x0, z0 = 45, 9\n",
    "    return f0 * m.exp(-beta * ((x - x0)**2 + (z - z0)**2))\n",
    "\n",
    "K = 20"
   ]
  },
  {
   "cell_type": "code",
   "execution_count": null,
   "metadata": {},
   "outputs": [],
   "source": [
    "STEPS_1X = int(INT_OFFS_X / STEP)\n",
    "STEPS_2X = int((INT_SIZE_X + 1) / STEP)\n",
    "STEPS_3X = EXT_SIZE_X - INT_OFFS_X - INT_SIZE_X\n",
    "\n",
    "STEPS_1Y = int(INT_OFFS_Y / STEP)\n",
    "STEPS_2Y = int((INT_SIZE_Y + 1) / STEP)\n",
    "STEPS_3Y = EXT_SIZE_Y - INT_OFFS_Y - INT_SIZE_Y\n",
    "\n",
    "STEPS_X = STEPS_1X + STEPS_2X + STEPS_3X\n",
    "STEPS_Y = STEPS_1Y + STEPS_2Y + STEPS_3Y"
   ]
  },
  {
   "cell_type": "code",
   "execution_count": null,
   "metadata": {},
   "outputs": [],
   "source": [
    "# Matrix and accessors\n",
    "\n",
    "w_matrix = np.zeros((STEPS_Y, STEPS_X), dtype=float)\n",
    "h, w = w_matrix.shape\n",
    "\n",
    "ibx0, iby0 = INT_OFFS_X, INT_OFFS_Y\n",
    "ibx1, iby1 = INT_OFFS_X + INT_SIZE_X, INT_OFFS_Y + INT_SIZE_Y\n",
    "\n",
    "\n",
    "def is_ext_bound(y, x):\n",
    "    return x in [0, w - 1] or y in [0, h - 1]\n",
    "\n",
    "def _is_hole_or_bound(y, x):\n",
    "    return x >= ibx0 and x <= ibx1 and y >= iby0 and y <= iby1\n",
    "\n",
    "def _is_int_bound_1dim(y, x):\n",
    "    return x in [ibx0, ibx1] or y in [iby0, iby1]\n",
    "\n",
    "def is_int_bound(y, x):\n",
    "    return _is_hole_or_bound(y, x) and _is_int_bound_1dim(y, x)\n",
    "\n",
    "def is_bound(y, x):\n",
    "    return is_int_bound(y, x) or is_ext_bound(y, x)\n",
    "\n",
    "def is_hole(y, x):\n",
    "    return _is_hole_or_bound(y, x) and not _is_int_bound_1dim(y, x)\n",
    "\n",
    "def is_target(y, x):\n",
    "    return not (_is_hole_or_bound(y, x) or is_ext_bound(y, x))\n",
    "\n",
    "\n",
    "def get_range1x():\n",
    "    return range(1, ibx0)\n",
    "\n",
    "def get_range2x():\n",
    "    return range(ibx0, ibx1 + 1)\n",
    "\n",
    "def get_range3x():\n",
    "    return range(ibx1 + 1, w - 1)\n",
    "\n",
    "def get_range1y():\n",
    "    return range(1, iby0)\n",
    "\n",
    "def get_range2y():\n",
    "    return range(iby0, iby1 + 1)\n",
    "\n",
    "def get_range3y():\n",
    "    return range(iby1 + 1, h - 1)"
   ]
  },
  {
   "cell_type": "code",
   "execution_count": null,
   "metadata": {},
   "outputs": [],
   "source": [
    "# Borders setup\n",
    "\n",
    "for j in range(h):\n",
    "    w_matrix[j, 0] = EXT_BORDER\n",
    "    w_matrix[j, w - 1] = EXT_BORDER\n",
    "for i in range(w):\n",
    "    w_matrix[0, i] = EXT_BORDER\n",
    "    w_matrix[h - 1, i] = EXT_BORDER\n",
    "\n",
    "for j in get_range2y():\n",
    "    w_matrix[j, ibx0] = INT_BORDER\n",
    "    w_matrix[j, ibx1] = INT_BORDER\n",
    "for i in get_range2x():\n",
    "    w_matrix[iby0, i] = INT_BORDER\n",
    "    w_matrix[iby1, i] = INT_BORDER"
   ]
  },
  {
   "cell_type": "code",
   "execution_count": null,
   "metadata": {},
   "outputs": [],
   "source": [
    "# Function values setup\n",
    "\n",
    "def FUNC2(x, z): return func(x, z) / K\n",
    "\n",
    "for j in range(1, h - 1):\n",
    "    for i in range(1, w - 1):\n",
    "        if not is_target(i, j):\n",
    "            continue\n",
    "        w_matrix[j, i] = FUNC2(j * STEP, i * STEP)\n"
   ]
  },
  {
   "cell_type": "code",
   "execution_count": null,
   "metadata": {},
   "outputs": [],
   "source": [
    "# Monte-carlo method (fixed)\n",
    "\n",
    "ITERS_COUNT = 200\n",
    "\n",
    "def prob_trace(j, i):\n",
    "    res = 0\n",
    "    pts_cnt = 0\n",
    "    while not is_bound(j, i):\n",
    "        res += w_matrix[j, i] * 0.25\n",
    "        pts_cnt += 1\n",
    "\n",
    "        dir = np.random.randint(0, 4)\n",
    "        if dir % 2 == 0:\n",
    "            j += 1 if dir < 2 else -1\n",
    "        else:\n",
    "            i += 1 if dir < 2 else -1\n",
    "    res += w_matrix[j, i]\n",
    "    return res\n",
    "\n",
    "def prob_point(j, i):\n",
    "    res = 0\n",
    "    for _ in range(ITERS_COUNT):\n",
    "        res += prob_trace(j, i)\n",
    "    res /= ITERS_COUNT\n",
    "    return res"
   ]
  },
  {
   "cell_type": "code",
   "execution_count": null,
   "metadata": {},
   "outputs": [],
   "source": [
    "TARGET = (45, 9)\n",
    "res = prob_point(*TARGET)\n",
    "print('Res: {:.3f}'.format(res))\n",
    "orig = 330.6864168849065\n",
    "print('Err: {:.3f}%'.format((abs(res - orig) / orig) * 100))"
   ]
  }
 ],
 "metadata": {
  "kernelspec": {
   "display_name": "Python 3.8.10 64-bit",
   "language": "python",
   "name": "python3"
  },
  "language_info": {
   "codemirror_mode": {
    "name": "ipython",
    "version": 3
   },
   "file_extension": ".py",
   "mimetype": "text/x-python",
   "name": "python",
   "nbconvert_exporter": "python",
   "pygments_lexer": "ipython3",
   "version": "3.8.10 (default, Nov 14 2022, 12:59:47) \n[GCC 9.4.0]"
  },
  "orig_nbformat": 4,
  "vscode": {
   "interpreter": {
    "hash": "31f2aee4e71d21fbe5cf8b01ff0e069b9275f58929596ceb00d14d90e3e16cd6"
   }
  }
 },
 "nbformat": 4,
 "nbformat_minor": 2
}
