{
 "cells": [
  {
   "cell_type": "code",
   "execution_count": 1,
   "metadata": {},
   "outputs": [],
   "source": [
    "from termcolor import colored\n",
    "\n",
    "import math as m\n",
    "\n",
    "import numpy as np\n",
    "\n",
    "import matplotlib.pyplot as plt\n",
    "from matplotlib import cm\n",
    "from matplotlib.patches import Rectangle\n",
    "\n",
    "import ipywidgets as widgets"
   ]
  },
  {
   "cell_type": "code",
   "execution_count": 10,
   "metadata": {},
   "outputs": [],
   "source": [
    "EXT_SIZE = 60\n",
    "INT_SIZE = 20\n",
    "\n",
    "EXT_BORDER = +300.0\n",
    "INT_BORDER = +320.0\n",
    "\n",
    "STEP = 1\n",
    "\n",
    "def func(x, z):\n",
    "    # return 30\n",
    "    f0, beta = 60, 0.1\n",
    "    x0, z0 = 45, 9\n",
    "    return f0 * m.exp(-beta * (x - x0)**2 * (z - z0)**2)\n",
    "\n",
    "K = 20"
   ]
  },
  {
   "cell_type": "code",
   "execution_count": 11,
   "metadata": {},
   "outputs": [],
   "source": [
    "EXT_STEPS = EXT_SIZE + 1\n",
    "INT_STEPS = INT_SIZE + 1\n",
    "\n",
    "INT_OFFS = int((EXT_SIZE - INT_SIZE) / 2)\n",
    "\n",
    "STEPS_1 = int(INT_OFFS / STEP)\n",
    "STEPS_2 = int(INT_STEPS / STEP)\n",
    "STEPS_3 = STEPS_1\n",
    "STEPS = STEPS_1 + STEPS_2 + STEPS_3"
   ]
  },
  {
   "cell_type": "code",
   "execution_count": 12,
   "metadata": {},
   "outputs": [],
   "source": [
    "# Matrix and accessors\n",
    "\n",
    "matrix = np.zeros((STEPS, STEPS), dtype=float)\n",
    "h, w = matrix.shape\n",
    "\n",
    "\n",
    "# eb0, eb1 = 0, w - 1\n",
    "ib0, ib1 = INT_OFFS, INT_OFFS + INT_SIZE\n",
    "\n",
    "\n",
    "def is_ext_bound(y, x):\n",
    "    return x in [0, w - 1] or y in [0, h - 1]\n",
    "\n",
    "# TODO: nonsquare\n",
    "\n",
    "def _is_hole_or_bound(y, x):\n",
    "    return x >= ib0 and x <= ib1 and y >= ib0 and y <= ib1\n",
    "\n",
    "def _is_int_bound_1dim(y, x):\n",
    "    return x in [ib0, ib1] or y in [ib0, ib1]\n",
    "\n",
    "def is_int_bound(y, x):\n",
    "    return _is_hole_or_bound(y, x) and _is_int_bound_1dim(y, x)\n",
    "\n",
    "def is_hole(y, x):\n",
    "    return _is_hole_or_bound(y, x) and not _is_int_bound_1dim(y, x)\n",
    "\n",
    "def is_target(y, x):\n",
    "    return not (_is_hole_or_bound(y, x) or is_ext_bound(y, x))\n",
    "\n",
    "\n",
    "def get_range1():\n",
    "    return range(1, ib0)\n",
    "\n",
    "def get_range2():\n",
    "    return range(ib0, ib1 + 1)\n",
    "\n",
    "def get_range3():\n",
    "    # TODO: w/h\n",
    "    return range(ib1 + 1, w - 1)"
   ]
  },
  {
   "cell_type": "code",
   "execution_count": 13,
   "metadata": {},
   "outputs": [],
   "source": [
    "# Matrix printing\n",
    "\n",
    "def print_matrix(mat):\n",
    "    for j in range(h):\n",
    "        for i in range(w):\n",
    "            cell = '{:<8.2f}'.format(mat[j, i])\n",
    "            if is_ext_bound(i, j) or is_int_bound(i, j):\n",
    "                cell = colored(cell, 'green')\n",
    "            elif is_hole(i, j):\n",
    "                # cell = colored(cell, 'red')\n",
    "                cell = ' ' * 8\n",
    "            print(cell, end='')\n",
    "        print()"
   ]
  },
  {
   "cell_type": "code",
   "execution_count": 14,
   "metadata": {},
   "outputs": [],
   "source": [
    "# Borders setup\n",
    "\n",
    "for j in range(h):\n",
    "    matrix[j, 0] = EXT_BORDER\n",
    "    matrix[j, w - 1] = EXT_BORDER\n",
    "for i in range(w):\n",
    "    matrix[0, i] = EXT_BORDER\n",
    "    matrix[h - 1, i] = EXT_BORDER\n",
    "\n",
    "for j in get_range2():\n",
    "    matrix[j, ib0] = INT_BORDER\n",
    "    matrix[j, ib1] = INT_BORDER\n",
    "for i in get_range2():\n",
    "    matrix[ib0, i] = INT_BORDER\n",
    "    matrix[ib1, i] = INT_BORDER"
   ]
  },
  {
   "cell_type": "code",
   "execution_count": 15,
   "metadata": {},
   "outputs": [],
   "source": [
    "# Creating first iteration by linear interpolation of bounds\n",
    "\n",
    "def lerp(x, y, t):\n",
    "    return (1 - t) * x + t * y\n",
    "\n",
    "# Short intervals\n",
    "\n",
    "for j in get_range2():\n",
    "    for i in get_range1():\n",
    "        matrix[i, j] = lerp(matrix[0, j], matrix[ib0, j], i / STEPS_1)\n",
    "    for i in get_range3():\n",
    "        matrix[i, j] = lerp(matrix[ib1, j], matrix[w - 1, j], (i - ib1) / STEPS_3)\n",
    "\n",
    "for i in get_range2():\n",
    "    for j in get_range1():\n",
    "        matrix[i, j] = lerp(matrix[i, 0], matrix[i, ib0], j / STEPS_1)\n",
    "    for j in get_range3():\n",
    "        matrix[i, j] = lerp(matrix[i, ib1], matrix[i, h - 1], (j - ib1) / STEPS_3)\n",
    "\n",
    "# Corners\n",
    "\n",
    "for j in get_range1():\n",
    "    for i in get_range1():\n",
    "        matrix[i, j] = lerp(matrix[0, j], matrix[ib0, j], i / STEPS_1)\n",
    "for j in get_range1():\n",
    "    for i in get_range3():\n",
    "        matrix[i, j] = lerp(matrix[ib1, j], matrix[w - 1, j], (i - ib1) / STEPS_3)\n",
    "for j in get_range3():\n",
    "    for i in get_range1():\n",
    "        matrix[i, j] = lerp(matrix[0, j], matrix[ib0, j], i / STEPS_1)\n",
    "for j in get_range3():\n",
    "    for i in get_range3():\n",
    "        matrix[i, j] = lerp(matrix[ib1, j], matrix[w - 1, j], (i - ib1) / STEPS_3)"
   ]
  },
  {
   "cell_type": "markdown",
   "metadata": {},
   "source": [
    "$\n",
    "\\dfrac{\\partial^2 u}{\\partial x^2} + \\dfrac{\\partial^2 u}{\\partial z^2} = F(x, z) = - \\dfrac{f(x, z)}{k}\n",
    "$\n",
    "\n",
    "$\n",
    "\\dfrac{1}{h_x^2}(u_{i+1,j} - 2u_{i,j} + u_{i-1,j}) + \\dfrac{1}{h_z^2}(u_{i,j+1} - 2u_{i,j} + u_{i-1,j-1}) = F(x, z)\n",
    "$\n",
    "\n",
    "Примем $h_x = h_z = h$:\n",
    "\n",
    "$\n",
    "u_{i+1,j} - 2u_{i,j} + u_{i-1,j} + u_{i,j+1} - 2u_{i,j} + u_{i-1,j-1} = h^2 F(x, z)\n",
    "$\n",
    "\n",
    "Метод Зейделя. *Стоит рассмотреть также метод Якоби, он должен дать большую точность*.\n",
    "\n",
    "$\n",
    "u_{i,j} = \\frac{1}{4}(u_{i+1,j} + u_{i-1,j} + u_{i,j+1} + u_{i-1,j-1} - h^2 F(x_i, z_j))\n",
    "$\n",
    "\n",
    "Условие окончания счёта: $\\|u^{(k+1)} - u^{(k)}\\| < \\varepsilon$, где $\\|u\\| = \\max_{i,j}{(u_{i,j})}$"
   ]
  },
  {
   "cell_type": "code",
   "execution_count": 16,
   "metadata": {},
   "outputs": [
    {
     "name": "stdout",
     "output_type": "stream",
     "text": [
      "Iterations: 287\n"
     ]
    }
   ],
   "source": [
    "# Zeidel\n",
    "\n",
    "MAX_ITER = 3000\n",
    "EPS = 1e-2\n",
    "\n",
    "def FUNC2(x, z): return -func(x, z) / K\n",
    "\n",
    "# Returns true if solution is found\n",
    "def zeidel_iter():\n",
    "    iter_max = -m.inf\n",
    "    step2 = STEP * STEP\n",
    "    for j in range(1, h - 1):\n",
    "        for i in range(1, w - 1):\n",
    "            if not is_target(i, j):\n",
    "                continue\n",
    "            val = 0.25 * (\n",
    "                matrix[j, i + 1] +\n",
    "                matrix[j, i - 1] +\n",
    "                matrix[j + 1, i] +\n",
    "                matrix[j - 1, i] -\n",
    "                step2 * FUNC2(j * STEP, i * STEP)\n",
    "            )\n",
    "            diff = abs(val - matrix[j, i])\n",
    "            iter_max = max(iter_max, diff)\n",
    "            matrix[j, i] = val\n",
    "    return iter_max < EPS\n",
    "\n",
    "fin_iters = False\n",
    "for iter in range(MAX_ITER):\n",
    "    is_end = zeidel_iter()\n",
    "    if is_end:\n",
    "        print(f'Iterations: {iter}')\n",
    "        fin_iters = True\n",
    "        break\n",
    "\n",
    "if not fin_iters:\n",
    "    print(f'Iterations: {MAX_ITER} (limit exceed)')\n",
    "\n",
    "# print_matrix(matrix)"
   ]
  },
  {
   "cell_type": "code",
   "execution_count": 17,
   "metadata": {},
   "outputs": [
    {
     "data": {
      "application/vnd.jupyter.widget-view+json": {
       "model_id": "8befcec2c0154901bbc3afbd51da542e",
       "version_major": 2,
       "version_minor": 0
      },
      "text/plain": [
       "Output()"
      ]
     },
     "execution_count": 17,
     "metadata": {},
     "output_type": "execute_result"
    }
   ],
   "source": [
    "# Heatmap\n",
    "%matplotlib widget\n",
    "\n",
    "XS, YS, FS = [], [], []\n",
    "for j in range(h):\n",
    "    for i in range(w):\n",
    "        if not is_hole(i, j):\n",
    "            # if i % 2 == 0 and j % 2 == 0:\n",
    "            #     continue\n",
    "            XS.append(i * STEP)\n",
    "            YS.append(j * STEP)\n",
    "            FS.append(matrix[i][j])\n",
    "\n",
    "def show_scatter():\n",
    "    plt.scatter(XS, YS, c=FS)\n",
    "\n",
    "def show_3d():\n",
    "    fig, ax = plt.figure(), plt.axes(projection='3d')\n",
    "    ax.plot_trisurf(XS, YS, FS, cmap=cm.plasma)\n",
    "\n",
    "def show_heatmap():\n",
    "    vmin = min(min(x for x in row if x > 1e-3) for row in matrix)\n",
    "    plt.imshow(matrix, cmap='plasma', vmin=vmin)\n",
    "    hole_rect = Rectangle((INT_OFFS, INT_OFFS), INT_SIZE, INT_SIZE,\n",
    "                          edgecolor='black',\n",
    "                          facecolor='black')\n",
    "    plt.gca().add_patch(hole_rect)\n",
    "    plt.colorbar()\n",
    "    plt.show()\n",
    "\n",
    "o = widgets.Output()\n",
    "with o:\n",
    "    # show_scatter()\n",
    "    # show_3d()\n",
    "    show_heatmap()\n",
    "o"
   ]
  }
 ],
 "metadata": {
  "kernelspec": {
   "display_name": "Python 3.8.10 64-bit",
   "language": "python",
   "name": "python3"
  },
  "language_info": {
   "codemirror_mode": {
    "name": "ipython",
    "version": 3
   },
   "file_extension": ".py",
   "mimetype": "text/x-python",
   "name": "python",
   "nbconvert_exporter": "python",
   "pygments_lexer": "ipython3",
   "version": "3.8.10"
  },
  "orig_nbformat": 4,
  "vscode": {
   "interpreter": {
    "hash": "31f2aee4e71d21fbe5cf8b01ff0e069b9275f58929596ceb00d14d90e3e16cd6"
   }
  }
 },
 "nbformat": 4,
 "nbformat_minor": 2
}
