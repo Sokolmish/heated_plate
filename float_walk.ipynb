{
 "cells": [
  {
   "cell_type": "code",
   "execution_count": null,
   "metadata": {},
   "outputs": [],
   "source": [
    "import math as m\n",
    "import random\n",
    "\n",
    "import numpy as np\n",
    "\n",
    "import matplotlib.pyplot as plt\n",
    "from matplotlib import cm\n",
    "from matplotlib.patches import Rectangle\n",
    "\n",
    "import ipywidgets as widgets"
   ]
  },
  {
   "cell_type": "code",
   "execution_count": null,
   "metadata": {},
   "outputs": [],
   "source": [
    "EXT_SIZE_X, EXT_SIZE_Y = 80, 60\n",
    "\n",
    "INT_OFFS_X, INT_OFFS_Y = 20, 20\n",
    "INT_SIZE_X, INT_SIZE_Y = 20, 20\n",
    "\n",
    "EXT_BORDER = +300.0\n",
    "INT_BORDER = +320.0\n",
    "\n",
    "STEP = 1\n",
    "\n",
    "def func(x, z):\n",
    "    # return 30\n",
    "    f0, beta = 60, 0.1\n",
    "    x0, z0 = 45, 9\n",
    "    return f0 * m.exp(-beta * ((x - x0)**2 + (z - z0)**2))\n",
    "\n",
    "K = 20"
   ]
  },
  {
   "cell_type": "code",
   "execution_count": null,
   "metadata": {},
   "outputs": [],
   "source": [
    "ibx0, iby0 = INT_OFFS_X, INT_OFFS_Y\n",
    "ibx1, iby1 = INT_OFFS_X + INT_SIZE_X, INT_OFFS_Y + INT_SIZE_Y\n",
    "\n",
    "def is_outside(y, x):\n",
    "    if x <= 0 or x >= EXT_SIZE_X or y <= 0 or y >= EXT_SIZE_Y:\n",
    "        return True\n",
    "    if ibx0 <= x <= ibx1 and iby0 <= y <= iby1:\n",
    "        return True\n",
    "    return False\n",
    "\n",
    "def dist_pt_segm_hor(ptx: int, pty: int, sx1: int, sx2: int, sy: int):\n",
    "    assert sx1 < sx2\n",
    "    if ptx < sx1:\n",
    "        return m.hypot(sx1 - ptx, abs(pty - sy))\n",
    "    elif ptx > sx2:\n",
    "        return m.hypot(ptx - sx2, abs(pty - sy))\n",
    "    else:\n",
    "        return abs(pty - sy)\n",
    "\n",
    "def dist_pt_segm_vert(ptx: int, pty: int, sy1: int, sy2: int, sx: int):\n",
    "    return dist_pt_segm_hor(pty, ptx, sy1, sy2, sx)\n",
    "\n",
    "# Assumed that point is valid\n",
    "def dist_to_border(y: int, x: int):\n",
    "    # TODO: dont check all borders\n",
    "    # if x < INT_OFFS_X:\n",
    "    #     res = min(res, dist_pt_segm_vert(x, y, ))\n",
    "\n",
    "    min_ext = min([\n",
    "        dist_pt_segm_vert(x, y, 0, EXT_SIZE_Y, 0), # Ext left\n",
    "        dist_pt_segm_vert(x, y, 0, EXT_SIZE_Y, EXT_SIZE_X), # Ext right\n",
    "\n",
    "        dist_pt_segm_hor(x, y, 0, EXT_SIZE_X, 0), # Ext top\n",
    "        dist_pt_segm_hor(x, y, 0, EXT_SIZE_X, EXT_SIZE_Y), # Ext bottom\n",
    "    ])\n",
    "\n",
    "    min_int = min([\n",
    "        dist_pt_segm_vert(x, y, iby0, iby1, ibx0), # Int left\n",
    "        dist_pt_segm_vert(x, y, iby0, iby1, ibx1), # Int right\n",
    "\n",
    "        dist_pt_segm_hor(x, y, ibx0, ibx1, iby0), # Int top\n",
    "        dist_pt_segm_hor(x, y, ibx0, ibx1, iby1), # Int bottom\n",
    "    ])\n",
    "\n",
    "    if min_ext < min_int:\n",
    "        return min_ext, EXT_BORDER  # TODO: Non constant temperature\n",
    "    else:\n",
    "        return min_int, INT_BORDER"
   ]
  },
  {
   "cell_type": "code",
   "execution_count": null,
   "metadata": {},
   "outputs": [],
   "source": [
    "def FUNC2(x, y): return func(y, x) / K  # 45 9"
   ]
  },
  {
   "attachments": {},
   "cell_type": "markdown",
   "metadata": {},
   "source": [
    "Simpson's integration:\n",
    "$\n",
    "I^* = \\frac{h}{6} \\sum_i \\left(f_i + 4f_{i+0.5} + f_{i+1}\\right)\n",
    "$"
   ]
  },
  {
   "cell_type": "code",
   "execution_count": null,
   "metadata": {},
   "outputs": [],
   "source": [
    "INTEGR_STEP = 1e-2\n",
    "\n",
    "def integrate_segm(x1: int, y1: int, x2: int, y2: int):\n",
    "    dx, dy = abs(x2 - x1), abs(y2 - y1)\n",
    "    segm_len = m.hypot(dx, dy)\n",
    "    halfx = INTEGR_STEP / 2.0 * dx\n",
    "    halfy = INTEGR_STEP / 2.0 * dy\n",
    "\n",
    "    s = 0\n",
    "    ptx, pty = x1, y1\n",
    "    lastval = FUNC2(ptx, pty)\n",
    "\n",
    "    for i in range(int(segm_len / INTEGR_STEP)):\n",
    "        # s += FUNC2(ptx, pty)\n",
    "        s += lastval\n",
    "\n",
    "        s += 4 * FUNC2(ptx + halfx, pty + halfy)\n",
    "\n",
    "        ptx += INTEGR_STEP\n",
    "        pty += INTEGR_STEP\n",
    "        \n",
    "        # s += FUNC2(ptx, pty)\n",
    "        lastval = FUNC2(ptx, pty)\n",
    "        s += lastval\n",
    "\n",
    "    res = s * INTEGR_STEP / 6.0\n",
    "    return res"
   ]
  },
  {
   "cell_type": "code",
   "execution_count": null,
   "metadata": {},
   "outputs": [],
   "source": [
    "# Monte-carlo method (floating)\n",
    "\n",
    "ITERS_COUNT = 50\n",
    "EPS = 1e-2\n",
    "\n",
    "# Set fixed step for using semi-floating walk\n",
    "# FIXED_STEP = None\n",
    "FIXED_STEP = 1\n",
    "\n",
    "def prob_trace(y: float, x: float):\n",
    "    _2_PI = 2 * m.pi\n",
    "\n",
    "    hops = 0\n",
    "    res = 0\n",
    "\n",
    "    dist, btemp = dist_to_border(y, x)\n",
    "    while dist > EPS and not is_outside(y, x):\n",
    "        angle = _2_PI * random.random()\n",
    "        if FIXED_STEP is None:\n",
    "            nx = x + dist * m.cos(angle)\n",
    "            ny = y + dist * m.sin(angle)\n",
    "        else:\n",
    "            nx = x + FIXED_STEP * m.cos(angle)\n",
    "            ny = y + FIXED_STEP * m.sin(angle)\n",
    "\n",
    "        res += integrate_segm(x, y, nx, ny) * 0.25\n",
    "        x, y = nx, ny\n",
    "\n",
    "        dist, btemp = dist_to_border(y, x)\n",
    "        hops += 1\n",
    "    \n",
    "    res += btemp\n",
    "    return res\n",
    "\n",
    "def prob_point(j, i):\n",
    "    res = 0\n",
    "    for _ in range(ITERS_COUNT):\n",
    "        res += prob_trace(j, i)\n",
    "    res /= ITERS_COUNT\n",
    "    return res"
   ]
  },
  {
   "cell_type": "code",
   "execution_count": null,
   "metadata": {},
   "outputs": [],
   "source": [
    "TARGET = (45, 9)\n",
    "res = prob_point(*TARGET)\n",
    "print('Res: {:.3f}'.format(res))\n",
    "orig = 330.6864168849065\n",
    "print('Err: {:.3f}%'.format((abs(res - orig) / orig) * 100))"
   ]
  }
 ],
 "metadata": {
  "kernelspec": {
   "display_name": "Python 3",
   "language": "python",
   "name": "python3"
  },
  "language_info": {
   "codemirror_mode": {
    "name": "ipython",
    "version": 3
   },
   "file_extension": ".py",
   "mimetype": "text/x-python",
   "name": "python",
   "nbconvert_exporter": "python",
   "pygments_lexer": "ipython3",
   "version": "3.8.10"
  },
  "orig_nbformat": 4,
  "vscode": {
   "interpreter": {
    "hash": "767d51c1340bd893661ea55ea3124f6de3c7a262a8b4abca0554b478b1e2ff90"
   }
  }
 },
 "nbformat": 4,
 "nbformat_minor": 2
}
