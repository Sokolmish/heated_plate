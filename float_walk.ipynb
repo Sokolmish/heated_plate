{
 "cells": [
  {
   "cell_type": "code",
   "execution_count": null,
   "metadata": {},
   "outputs": [],
   "source": [
    "from common_all import *\n",
    "from common_float import *"
   ]
  },
  {
   "cell_type": "code",
   "execution_count": null,
   "metadata": {},
   "outputs": [],
   "source": [
    "def FUNC2(x, y): return func(y, x) / K  # 45 9"
   ]
  },
  {
   "attachments": {},
   "cell_type": "markdown",
   "metadata": {},
   "source": [
    "Simpson's integration:\n",
    "$\n",
    "I^* = \\frac{h}{6} \\sum_i \\left(f_i + 4f_{i+0.5} + f_{i+1}\\right)\n",
    "$"
   ]
  },
  {
   "cell_type": "code",
   "execution_count": null,
   "metadata": {},
   "outputs": [],
   "source": [
    "INTEGR_STEP = 1e-2\n",
    "\n",
    "_INTEGR_STEP_2 = INTEGR_STEP / 2.0\n",
    "\n",
    "def integrate_segm(x1: int, y1: int, x2: int, y2: int):\n",
    "    dx, dy = abs(x2 - x1), abs(y2 - y1)\n",
    "    segm_len = m.hypot(dx, dy)\n",
    "    halfx = _INTEGR_STEP_2 * dx\n",
    "    halfy = _INTEGR_STEP_2 * dy\n",
    "\n",
    "    s = 0\n",
    "    ptx, pty = x1, y1\n",
    "    lastval = FUNC2(ptx, pty)\n",
    "\n",
    "    for i in range(int(segm_len / INTEGR_STEP)):\n",
    "        # s += FUNC2(ptx, pty)\n",
    "        s += lastval\n",
    "\n",
    "        s += 4 * FUNC2(ptx + halfx, pty + halfy)\n",
    "\n",
    "        ptx += INTEGR_STEP\n",
    "        pty += INTEGR_STEP\n",
    "        \n",
    "        # s += FUNC2(ptx, pty)\n",
    "        lastval = FUNC2(ptx, pty)\n",
    "        s += lastval\n",
    "\n",
    "    res = s * INTEGR_STEP / 6.0\n",
    "    return res"
   ]
  },
  {
   "cell_type": "code",
   "execution_count": null,
   "metadata": {},
   "outputs": [],
   "source": [
    "# Monte-carlo method (floating)\n",
    "\n",
    "def prob_trace(y: float, x: float, eps: float, fixed_step):\n",
    "    _2_PI = 2 * m.pi\n",
    "\n",
    "    hops = 0\n",
    "    res = 0\n",
    "\n",
    "    dist, btemp = dist_to_border(y, x)\n",
    "    while dist > eps and not is_outside(y, x):\n",
    "        angle = _2_PI * rnd.random()\n",
    "        if fixed_step is None:\n",
    "            nx = x + dist * m.cos(angle)\n",
    "            ny = y + dist * m.sin(angle)\n",
    "        else:\n",
    "            nx = x + fixed_step * m.cos(angle)\n",
    "            ny = y + fixed_step * m.sin(angle)\n",
    "\n",
    "        res += integrate_segm(x, y, nx, ny) * 0.25\n",
    "        x, y = nx, ny\n",
    "\n",
    "        dist, btemp = dist_to_border(y, x)\n",
    "        hops += 1\n",
    "    \n",
    "    res += btemp\n",
    "    return res\n",
    "\n",
    "def prob_point(j, i, traces_cnt: int, eps: float, fixed_step):\n",
    "    res = 0\n",
    "    for _ in range(traces_cnt):\n",
    "        res += prob_trace(j, i, eps, fixed_step)\n",
    "    res /= traces_cnt\n",
    "    return res"
   ]
  },
  {
   "cell_type": "code",
   "execution_count": null,
   "metadata": {},
   "outputs": [],
   "source": [
    "TARGET = (45, 9)\n",
    "TRACES_COUNT = 100\n",
    "EPS = 1e-2\n",
    "\n",
    "# Set fixed step for using semi-floating walk\n",
    "# FIXED_STEP = None\n",
    "FIXED_STEP = 1\n",
    "\n",
    "res = prob_point(*TARGET, TRACES_COUNT, EPS, FIXED_STEP)\n",
    "print('Res: {:.3f}'.format(res))\n",
    "orig = 330.6864168849065\n",
    "print('Err: {:.3f}%'.format((abs(res - orig) / orig) * 100))"
   ]
  }
 ],
 "metadata": {
  "kernelspec": {
   "display_name": "Python 3",
   "language": "python",
   "name": "python3"
  },
  "language_info": {
   "codemirror_mode": {
    "name": "ipython",
    "version": 3
   },
   "file_extension": ".py",
   "mimetype": "text/x-python",
   "name": "python",
   "nbconvert_exporter": "python",
   "pygments_lexer": "ipython3",
   "version": "3.8.10 (default, Nov 14 2022, 12:59:47) \n[GCC 9.4.0]"
  },
  "orig_nbformat": 4,
  "vscode": {
   "interpreter": {
    "hash": "767d51c1340bd893661ea55ea3124f6de3c7a262a8b4abca0554b478b1e2ff90"
   }
  }
 },
 "nbformat": 4,
 "nbformat_minor": 2
}
